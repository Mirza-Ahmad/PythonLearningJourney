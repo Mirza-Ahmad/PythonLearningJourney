{
 "cells": [
  {
   "cell_type": "markdown",
   "metadata": {},
   "source": [
    "### Arithmetic Operators \n",
    "### Comparsions Operators \n",
    "### Logical Operators\n",
    "### Bitwise Operators \n",
    "### Assignment Operators\n",
    "### Identity Operators\n",
    "### Membership Operators"
   ]
  },
  {
   "cell_type": "code",
   "execution_count": 3,
   "metadata": {},
   "outputs": [
    {
     "name": "stdout",
     "output_type": "stream",
     "text": [
      "-1\n",
      "9\n",
      "42\n",
      "0.5\n",
      "1\n",
      "8\n",
      "0\n",
      "8\n"
     ]
    }
   ],
   "source": [
    "# Arithmetic operators \n",
    "print(2-3)\n",
    "print(4+5)\n",
    "print(7*6)\n",
    "print(1/2)\n",
    "print(1%2)\n",
    "print(2**3)\n",
    "print(1//2)\n",
    "print(2**3)"
   ]
  },
  {
   "cell_type": "code",
   "execution_count": 4,
   "metadata": {},
   "outputs": [
    {
     "name": "stdout",
     "output_type": "stream",
     "text": [
      "True\n",
      "True\n",
      "True\n",
      "True\n",
      "True\n",
      "True\n",
      "True\n",
      "True\n",
      "False\n",
      "True\n"
     ]
    }
   ],
   "source": [
    "# Comparision Operators \n",
    "print(2 < 3)\n",
    "print(4 > 3)\n",
    "print(3 == 3)\n",
    "print(2 <= 3)\n",
    "print(3 <= 3)\n",
    "print(5 >= 3)\n",
    "print(13 >= 10)\n",
    "print(2 != 3)\n",
    "print(3 != 3)\n",
    "print(4 != 3)"
   ]
  },
  {
   "cell_type": "code",
   "execution_count": 7,
   "metadata": {},
   "outputs": [
    {
     "name": "stdout",
     "output_type": "stream",
     "text": [
      "True\n",
      "False\n",
      "True\n",
      "True\n",
      "False\n",
      "True\n"
     ]
    }
   ],
   "source": [
    "# Logical Operators   \n",
    "x = 6\n",
    "y = 9\n",
    "z = 11\n",
    "d=  15\n",
    "print(x > 5 and x < 10)\n",
    "print(x >= 6 and x >= 11)\n",
    "print(x < 10 and x > 5)\n",
    "print(x <= 6 and x >= 4)\n",
    "print(not(x <= d and d >= y and z > y and z <= d))\n",
    "print(not(z >= x and z >= y and z >= z and z >= d))"
   ]
  },
  {
   "cell_type": "code",
   "execution_count": 8,
   "metadata": {},
   "outputs": [
    {
     "name": "stdout",
     "output_type": "stream",
     "text": [
      "9\n"
     ]
    }
   ],
   "source": [
    "print(x and y)"
   ]
  },
  {
   "cell_type": "code",
   "execution_count": 9,
   "metadata": {},
   "outputs": [
    {
     "name": "stdout",
     "output_type": "stream",
     "text": [
      "False\n"
     ]
    }
   ],
   "source": [
    "print(not(x and y))"
   ]
  },
  {
   "cell_type": "code",
   "execution_count": 14,
   "metadata": {},
   "outputs": [
    {
     "name": "stdout",
     "output_type": "stream",
     "text": [
      "6\n",
      "0\n",
      "6\n",
      "12\n",
      "0\n"
     ]
    }
   ],
   "source": [
    "# Bitwise Operators\n",
    "x= 2\n",
    "y= 4\n",
    "# print(x&y)\n",
    "#binary of x and binary x is 0010 and y is 0100 and x | Y  0110 = 6\n",
    "'''\n",
    "0010\n",
    "0100\n",
    "0110\n",
    "''' \n",
    "print(x|y)\n",
    "print(x&y)\n",
    "print(x^y)\n",
    "print(3 << 2)\n",
    "print(4 >> 3)\n",
    "# Right Shift Operator\n",
    "# print(x>>y)\n",
    "# # left shift Operator\n",
    "# print(x<<y)"
   ]
  },
  {
   "cell_type": "code",
   "execution_count": 73,
   "metadata": {},
   "outputs": [
    {
     "data": {
      "text/plain": [
       "'0b10'"
      ]
     },
     "execution_count": 73,
     "metadata": {},
     "output_type": "execute_result"
    }
   ],
   "source": [
    "bin(2)"
   ]
  },
  {
   "cell_type": "code",
   "execution_count": 74,
   "metadata": {},
   "outputs": [
    {
     "data": {
      "text/plain": [
       "4"
      ]
     },
     "execution_count": 74,
     "metadata": {},
     "output_type": "execute_result"
    }
   ],
   "source": [
    "#right shift operator move the last significant bit to the left side\n",
    "# 0000 1000 => 0000100 => 4\n",
    "8 >> 1"
   ]
  },
  {
   "cell_type": "code",
   "execution_count": 75,
   "metadata": {},
   "outputs": [
    {
     "data": {
      "text/plain": [
       "10"
      ]
     },
     "execution_count": 75,
     "metadata": {},
     "output_type": "execute_result"
    }
   ],
   "source": [
    "#left shift operator remove the most significant bit \n",
    "5 << 1"
   ]
  },
  {
   "cell_type": "code",
   "execution_count": 76,
   "metadata": {},
   "outputs": [
    {
     "name": "stdout",
     "output_type": "stream",
     "text": [
      "-4\n"
     ]
    }
   ],
   "source": [
    "x = 3\n",
    "print(~x)"
   ]
  },
  {
   "cell_type": "code",
   "execution_count": 25,
   "metadata": {},
   "outputs": [
    {
     "name": "stdout",
     "output_type": "stream",
     "text": [
      "13\n",
      "9\n",
      "45\n",
      "22.5\n",
      "11.0\n"
     ]
    }
   ],
   "source": [
    "# Assignment operator \n",
    "a= 3\n",
    "a+=10\n",
    "print(a)\n",
    "a-=4\n",
    "print(a)\n",
    "a*=5\n",
    "print(a)\n",
    "a/=2\n",
    "print(a)\n",
    "a//=2\n",
    "print(a)"
   ]
  },
  {
   "cell_type": "code",
   "execution_count": 78,
   "metadata": {},
   "outputs": [
    {
     "name": "stdout",
     "output_type": "stream",
     "text": [
      "0\n"
     ]
    }
   ],
   "source": [
    "x = 17\n",
    "x %= 2\n",
    "x %=1\n",
    "print(x)"
   ]
  },
  {
   "cell_type": "code",
   "execution_count": 15,
   "metadata": {},
   "outputs": [
    {
     "name": "stdout",
     "output_type": "stream",
     "text": [
      "False\n"
     ]
    }
   ],
   "source": [
    "# identity operator checks the two variables are on the same memory location or not\n",
    "a= ['apple', 'banana']\n",
    "b= ['apple', 'banana']\n",
    "print(a is b)"
   ]
  },
  {
   "cell_type": "code",
   "execution_count": 16,
   "metadata": {},
   "outputs": [
    {
     "name": "stdout",
     "output_type": "stream",
     "text": [
      "False\n"
     ]
    }
   ],
   "source": [
    "a= 2\n",
    "b= 3\n",
    "print(a is b)"
   ]
  },
  {
   "cell_type": "code",
   "execution_count": 91,
   "metadata": {},
   "outputs": [
    {
     "name": "stdout",
     "output_type": "stream",
     "text": [
      "True\n"
     ]
    }
   ],
   "source": [
    "a= 2\n",
    "b= 2\n",
    "print(a is b)"
   ]
  },
  {
   "cell_type": "code",
   "execution_count": 17,
   "metadata": {},
   "outputs": [
    {
     "name": "stdout",
     "output_type": "stream",
     "text": [
      "True\n"
     ]
    }
   ],
   "source": [
    "a='Hello'\n",
    "b='Hello'\n",
    "print(a is b)"
   ]
  },
  {
   "cell_type": "code",
   "execution_count": 93,
   "metadata": {},
   "outputs": [
    {
     "name": "stdout",
     "output_type": "stream",
     "text": [
      "False\n"
     ]
    }
   ],
   "source": [
    "# Never thought that two same data are same memory location. \n",
    "a= [1,2,3,4]\n",
    "b= [1,2,3,4]\n",
    "print(a is b)"
   ]
  },
  {
   "cell_type": "code",
   "execution_count": 94,
   "metadata": {},
   "outputs": [
    {
     "name": "stdout",
     "output_type": "stream",
     "text": [
      "True\n"
     ]
    }
   ],
   "source": [
    "# Membership operator checks the single value are present in other values.\n",
    "a='Ahmad Ali'\n",
    "print('Ahmad' in a)"
   ]
  },
  {
   "cell_type": "code",
   "execution_count": 95,
   "metadata": {},
   "outputs": [
    {
     "name": "stdout",
     "output_type": "stream",
     "text": [
      "False\n"
     ]
    }
   ],
   "source": [
    "b= 'Hasan Ali'\n",
    "print('Hasan' not in b)"
   ]
  },
  {
   "cell_type": "code",
   "execution_count": 96,
   "metadata": {},
   "outputs": [
    {
     "name": "stdout",
     "output_type": "stream",
     "text": [
      "True\n"
     ]
    }
   ],
   "source": [
    "x = [1,2,3]\n",
    "print(2 in x)"
   ]
  }
 ],
 "metadata": {
  "kernelspec": {
   "display_name": "Python 3",
   "language": "python",
   "name": "python3"
  },
  "language_info": {
   "codemirror_mode": {
    "name": "ipython",
    "version": 3
   },
   "file_extension": ".py",
   "mimetype": "text/x-python",
   "name": "python",
   "nbconvert_exporter": "python",
   "pygments_lexer": "ipython3",
   "version": "3.11.4"
  },
  "orig_nbformat": 4
 },
 "nbformat": 4,
 "nbformat_minor": 2
}
